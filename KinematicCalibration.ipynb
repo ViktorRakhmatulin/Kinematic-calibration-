{
 "cells": [
  {
   "cell_type": "code",
   "execution_count": 4,
   "metadata": {},
   "outputs": [
    {
     "name": "stdout",
     "output_type": "stream",
     "text": [
      "nominal kinematics:\n",
      " [[  525.   150.     0.   -90.]\n",
      " [    0.   790.   -90.   180.]\n",
      " [    0.   250.     0.   -90.]\n",
      " [-1040.     0.     0.    90.]\n",
      " [    0.     0.     0.   -90.]\n",
      " [ -100.     0.     0.     0.]]\n",
      "position of robot flange: [ 1.57695054e+03 -1.05771358e-13  1.11237736e+03]\n",
      "x vector: [ 3.42020143e-01 -5.75395780e-17  9.39692621e-01]\n",
      "y vector: [5.75395780e-17 1.00000000e+00 4.02896463e-17]\n",
      "z vector: [-9.39692621e-01  4.02896463e-17  3.42020143e-01]\n",
      "kinematics with noise:\n",
      " [[ 5.25082456e+02  1.49902433e+02  1.30273388e-01 -8.98493932e+01]\n",
      " [ 3.22061606e-01  7.90144080e+02 -8.99394121e+01  1.79923166e+02]\n",
      " [ 1.66601724e-01  2.50128426e+02 -2.11034304e-01 -8.97992720e+01]\n",
      " [-1.04017579e+03  1.08478158e-01 -1.17545035e-02  8.98773004e+01]\n",
      " [ 1.94767271e-01 -6.12963601e-02  9.52888379e-02 -9.01722621e+01]\n",
      " [-1.00194703e+02  1.05266411e-01 -2.29560424e-01 -3.93595501e-02]]\n",
      "position of robot flange: [1577.43403958    3.965732   1107.12240753]\n",
      "x vector: [ 0.34491094 -0.00589973  0.93861688]\n",
      "y vector: [0.00262831 0.9999824  0.00531963]\n",
      "z vector: [-9.38631737e-01  6.32175577e-04  3.44920372e-01]\n"
     ]
    }
   ],
   "source": [
    "import numpy as np\n",
    "import sympy as sym\n",
    "from sympy import Function, hessian, pprint, Matrix, simplify\n",
    "import math\n",
    "from scipy.spatial.transform import Rotation as R\n",
    "\n",
    "d, a,q,alpha = sym.symbols('d a q alpha')\n",
    "\n",
    "def print_pose(pose):\n",
    "    print(\"position of robot flange:\", pose[0:3,3])\n",
    "    print (\"x vector:\" , pose[0:3:,0])\n",
    "    print (\"y vector:\" , pose[0:3:,1])\n",
    "    print (\"z vector:\" , pose[0:3:,2])    \n",
    "\n",
    "# symbolic DH matrix\n",
    "def get_symbolic_dh_matrix (d,a,q,alpha):\n",
    "    dh = sym.eye(4)\n",
    "    dh[0,0] = sym.cos(q)\n",
    "    dh[0,1] = -sym.sin(q) * sym.cos(alpha)\n",
    "    dh[0,2] = sym.sin(q) * sym.sin(alpha)\n",
    "    dh[0,3] = a * sym.cos(q)\n",
    "    dh[1,0] = sym.sin(q)\n",
    "    dh[1,1] = sym.cos(q)*sym.cos(alpha)\n",
    "    dh[1,2] = -sym.cos(q)* sym.sin(alpha)\n",
    "    dh[1,3] = a *sym.sin(q)\n",
    "    dh[2,1] = sym.sin(alpha)\n",
    "    dh[2,2] = sym.cos(alpha)\n",
    "    dh[2,3] = d\n",
    "\n",
    "    return dh\n",
    "\n",
    "dh1 = get_symbolic_dh_matrix(d,a,q,alpha)\n",
    "f = sym.lambdify([d, a,q,alpha], dh1, \"numpy\") \n",
    "\n",
    "# calculate DH matrix with given parameters and angle q\n",
    "def get_matrix_for_angle (d,a,q0,alpha, q):\n",
    "    matrix = f(d,a,np.deg2rad(q0 +q),np.deg2rad(alpha))\n",
    "    return matrix\n",
    "    \n",
    "def get_pose (q,kinematics):\n",
    "    resulting_transform = np.eye(4)\n",
    "    for i in range(6):\n",
    "        resulting_transform = resulting_transform @ get_matrix_for_angle(*kinematics[i], q[i])\n",
    "    return resulting_transform\n",
    "\n",
    "# 24 nominal parameters of kinematics\n",
    "def get_nominal_DH_kinematic_parameters():\n",
    "    kinematic_parameters =                                  np.array([525,150,0,-90], dtype = 'float')\n",
    "    kinematic_parameters = np.vstack((kinematic_parameters, np.array([0,790,-90,180])))\n",
    "    kinematic_parameters = np.vstack((kinematic_parameters, np.array([0,250,0,-90])))    \n",
    "    kinematic_parameters = np.vstack((kinematic_parameters, np.array([-1040,0,0,90])))\n",
    "    kinematic_parameters = np.vstack((kinematic_parameters, np.array([0,0,0,-90])))\n",
    "    kinematic_parameters = np.vstack((kinematic_parameters, np.array([-100,0,0,0])))\n",
    "    return kinematic_parameters\n",
    "\n",
    "def get_kinematics_model_with_noise(kinematic_parameters):\n",
    "    for param in np.nditer(kinematic_parameters, op_flags=['readwrite']):\n",
    "        param[...] = param + np.random.normal(0,0.15)\n",
    "    return kinematic_parameters\n",
    "\n",
    "# vector q in deg\n",
    "q = np.array ([0,20,0,0,0,0])\n",
    "\n",
    "nomibal_kinematics = get_nominal_DH_kinematic_parameters()\n",
    "print(\"nominal kinematics:\\n\", nomibal_kinematics)\n",
    "nominal_pose = get_pose(q,nomibal_kinematics)\n",
    "print_pose(nominal_pose)\n",
    "\n",
    "real_kinematics = get_kinematics_model_with_noise(nomibal_kinematics.copy())\n",
    "print(\"kinematics with noise:\\n\", real_kinematics)\n",
    "real_pose = get_pose(q,real_kinematics)\n",
    "print_pose(real_pose)\n",
    "\n"
   ]
  },
  {
   "cell_type": "code",
   "execution_count": 208,
   "metadata": {},
   "outputs": [
    {
     "name": "stdout",
     "output_type": "stream",
     "text": [
      "Matrix([[cos(q), -sin(q)*cos(alpha), sin(alpha)*sin(q), a*cos(q)], [sin(q), cos(alpha)*cos(q), -sin(alpha)*cos(q), a*sin(q)], [0, sin(alpha), cos(alpha), d], [0, 0, 0, 1]])\n"
     ]
    },
    {
     "data": {
      "text/latex": [
       "$\\displaystyle \\left[\\begin{matrix}\\cos{\\left(q \\right)} & - \\sin{\\left(q \\right)} \\cos{\\left(\\alpha \\right)} & \\sin{\\left(\\alpha \\right)} \\sin{\\left(q \\right)} & a \\cos{\\left(q \\right)}\\\\\\sin{\\left(q \\right)} & \\cos{\\left(\\alpha \\right)} \\cos{\\left(q \\right)} & - \\sin{\\left(\\alpha \\right)} \\cos{\\left(q \\right)} & a \\sin{\\left(q \\right)}\\\\0 & \\sin{\\left(\\alpha \\right)} & \\cos{\\left(\\alpha \\right)} & d\\\\0 & 0 & 0 & 1\\end{matrix}\\right]$"
      ],
      "text/plain": [
       "Matrix([\n",
       "[cos(q), -sin(q)*cos(alpha),  sin(alpha)*sin(q), a*cos(q)],\n",
       "[sin(q),  cos(alpha)*cos(q), -sin(alpha)*cos(q), a*sin(q)],\n",
       "[     0,         sin(alpha),         cos(alpha),        d],\n",
       "[     0,                  0,                  0,        1]])"
      ]
     },
     "execution_count": 208,
     "metadata": {},
     "output_type": "execute_result"
    }
   ],
   "source": [
    "import numpy as np\n",
    "import sympy as sym\n",
    "from sympy import Function, hessian, pprint, Matrix, simplify\n",
    "\n",
    "d, a,q,alpha = sym.symbols('d a q alpha')\n",
    "\n",
    "def get_dh (d,a,q,alpha):\n",
    "    dh = sym.eye(4)\n",
    "    dh[0,0] = sym.cos(q)\n",
    "    dh[0,1] = -sym.sin(q) * sym.cos(alpha)\n",
    "    dh[0,2] = sym.sin(q) * sym.sin(alpha)\n",
    "    dh[0,3] = a * sym.cos(q)\n",
    "    dh[1,0] = sym.sin(q)\n",
    "    dh[1,1] = sym.cos(q)*sym.cos(alpha)\n",
    "    dh[1,2] = -sym.cos(q)* sym.sin(alpha)\n",
    "    dh[1,3] = a * sym.sin(q)\n",
    "    dh[2,1] = sym.sin(alpha)\n",
    "    dh[2,2] = sym.cos(alpha)\n",
    "    dh[2,3] = d\n",
    "    print(dh)\n",
    "    return dh\n",
    "\n",
    "get_dh (d,a,q,alpha)"
   ]
  }
 ],
 "metadata": {
  "kernelspec": {
   "display_name": "Python 3",
   "language": "python",
   "name": "python3"
  },
  "language_info": {
   "codemirror_mode": {
    "name": "ipython",
    "version": 3
   },
   "file_extension": ".py",
   "mimetype": "text/x-python",
   "name": "python",
   "nbconvert_exporter": "python",
   "pygments_lexer": "ipython3",
   "version": "3.7.6"
  },
  "varInspector": {
   "cols": {
    "lenName": 16,
    "lenType": 16,
    "lenVar": 40
   },
   "kernels_config": {
    "python": {
     "delete_cmd_postfix": "",
     "delete_cmd_prefix": "del ",
     "library": "var_list.py",
     "varRefreshCmd": "print(var_dic_list())"
    },
    "r": {
     "delete_cmd_postfix": ") ",
     "delete_cmd_prefix": "rm(",
     "library": "var_list.r",
     "varRefreshCmd": "cat(var_dic_list()) "
    }
   },
   "position": {
    "height": "144.538px",
    "left": "1046.35px",
    "right": "20px",
    "top": "79px",
    "width": "350px"
   },
   "types_to_exclude": [
    "module",
    "function",
    "builtin_function_or_method",
    "instance",
    "_Feature"
   ],
   "window_display": true
  }
 },
 "nbformat": 4,
 "nbformat_minor": 2
}
